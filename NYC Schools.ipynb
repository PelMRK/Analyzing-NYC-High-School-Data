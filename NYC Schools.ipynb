{
 "cells": [
  {
   "cell_type": "markdown",
   "id": "87b6483c",
   "metadata": {},
   "source": [
    "# Analyzing NYC High School Data\n",
    "\n",
    "## Introduction\n",
    "\n",
    "In this project, we'll explore relationships between SAT scores and demographic factors in New York City public schools. For a brief bit of background, the [SAT](en.wikipedia.org/wiki/SAT), or Scholastic Aptitude Test, is a test that high school seniors in the U.s. take every year. The SAT has three sections, each of which is worth a maximum of `800` points. Colleges use the SAT to determine which students to admit. High average SAT scores are usually indicative of a good school. \n",
    "\n",
    "New York City has published data on [student SAT scores](data.cityofnewyork.us/Education/SAT-Results/f9bf-2cp4) by high school, along with additional demographic data sets:\n",
    "- `SAT scores by school` - SAT scores for each high school in New York City\n",
    "- `School attendance` - Attendance information for each school in New York City\n",
    "- `Class size` - Information on class size for each school\n",
    "- `AP test results` - Advanced Placement (AP) exam results for each high school (passing an optional AP exam in a particular subject can earn a student college credit in that subject)\n",
    "- `Graduation outcomes` - The percentage o students who graduated, and other outcome information\n",
    "- `Demographics` - Demographic information for each school\n",
    "- `School survey` - Survey of parents, teachers, and students at each school\n",
    "\n",
    "### Read in the Data"
   ]
  },
  {
   "cell_type": "code",
   "execution_count": 162,
   "id": "7731bef4",
   "metadata": {},
   "outputs": [],
   "source": [
    "import pandas as pd\n",
    "import numpy as np\n",
    "import re\n",
    "\n",
    "data_files = [\"ap_2010.csv\",\n",
    "              \"class_size.csv\",\n",
    "              \"demographics.csv\",\n",
    "              \"graduation.csv\",\n",
    "              \"hs_directory.csv\",\n",
    "              \"sat_results.csv\"]\n",
    "\n",
    "data = {}\n",
    "\n",
    "for f in data_files:\n",
    "    d = pd.read_csv(\"data/{}\".format(f))\n",
    "    data[f.replace(\".csv\", \"\")] = d"
   ]
  },
  {
   "cell_type": "markdown",
   "id": "4033eeb2",
   "metadata": {},
   "source": [
    "### Read in the Surveys"
   ]
  },
  {
   "cell_type": "code",
   "execution_count": 163,
   "id": "b1e1db29",
   "metadata": {},
   "outputs": [],
   "source": [
    "all_survey = pd.read_csv(\"data/survey_all.txt\", delimiter=\"\\t\", encoding='windows-1252')\n",
    "d75_survey = pd.read_csv(\"data/survey_d75.txt\", delimiter=\"\\t\", encoding='windows-1252')\n",
    "survey = pd.concat([all_survey, d75_survey], axis=0)\n",
    "\n",
    "survey[\"DBN\"] = survey[\"dbn\"]\n",
    "\n",
    "survey_fields = [\"DBN\", \n",
    "                \"rr_s\", \n",
    "                \"rr_t\", \n",
    "                \"rr_p\", \n",
    "                \"N_s\", \n",
    "                \"N_t\", \n",
    "                \"N_p\", \n",
    "                \"saf_p_11\", \n",
    "                \"com_p_11\", \n",
    "                \"eng_p_11\", \n",
    "                \"aca_p_11\", \n",
    "                \"saf_t_11\", \n",
    "                \"com_t_11\", \n",
    "                \"eng_t_11\", \n",
    "                \"aca_t_11\", \n",
    "                \"saf_s_11\", \n",
    "                \"com_s_11\", \n",
    "                \"eng_s_11\", \n",
    "                \"aca_s_11\", \n",
    "                \"saf_tot_11\", \n",
    "                \"com_tot_11\", \n",
    "                \"eng_tot_11\", \n",
    "                \"aca_tot_11\"]\n",
    "\n",
    "survey = survey[survey_fields]\n",
    "data[\"survey\"] = survey"
   ]
  },
  {
   "cell_type": "markdown",
   "id": "55f08422",
   "metadata": {},
   "source": [
    "### Add DBN Columns"
   ]
  },
  {
   "cell_type": "code",
   "execution_count": 164,
   "id": "c803fb89",
   "metadata": {},
   "outputs": [],
   "source": [
    "def pad_csd(num):\n",
    "    string_representation = str(num)\n",
    "    if len(string_representation) > 1:\n",
    "        return string_representation\n",
    "    else:\n",
    "        return \"0\" + string_representation\n",
    " \n",
    "\n",
    "data[\"hs_directory\"][\"DBN\"] = data[\"hs_directory\"][\"dbn\"]\n",
    "data[\"class_size\"][\"padded_csd\"] = data[\"class_size\"][\"CSD\"].apply(pad_csd)\n",
    "data[\"class_size\"][\"DBN\"] = data[\"class_size\"][\"padded_csd\"] + data[\"class_size\"][\"SCHOOL CODE\"]"
   ]
  },
  {
   "cell_type": "markdown",
   "id": "30c85851",
   "metadata": {},
   "source": [
    "### Convert Columns to Numeric"
   ]
  },
  {
   "cell_type": "code",
   "execution_count": 165,
   "id": "c79fbff9",
   "metadata": {},
   "outputs": [],
   "source": [
    "cols = ['SAT Math Avg. Score', 'SAT Critical Reading Avg. Score', 'SAT Writing Avg. Score']\n",
    "for c in cols:\n",
    "    data[\"sat_results\"][c] = pd.to_numeric(data[\"sat_results\"][c], errors=\"coerce\")\n",
    "\n",
    "data['sat_results']['sat_score'] = data['sat_results'][cols[0]] + data['sat_results'][cols[1]] + data['sat_results'][cols[2]]\n",
    "\n",
    "\n",
    "def find_lat(loc):\n",
    "    coords = re.findall(\"\\(.+, .+\\)\", loc)\n",
    "    lat = coords[0].split(\",\")[0].replace(\"(\", \"\")\n",
    "    return lat\n",
    "\n",
    "\n",
    "def find_lon(loc):\n",
    "    coords = re.findall(\"\\(.+, .+\\)\", loc)\n",
    "    lon = coords[0].split(\",\")[1].replace(\")\", \"\").strip()\n",
    "    return lon\n",
    "\n",
    "\n",
    "data[\"hs_directory\"][\"lat\"] = data[\"hs_directory\"][\"Location 1\"].apply(find_lat)\n",
    "data[\"hs_directory\"][\"lon\"] = data[\"hs_directory\"][\"Location 1\"].apply(find_lon)\n",
    "\n",
    "data[\"hs_directory\"][\"lat\"] = pd.to_numeric(data[\"hs_directory\"][\"lat\"], errors=\"coerce\")\n",
    "data[\"hs_directory\"][\"lon\"] = pd.to_numeric(data[\"hs_directory\"][\"lon\"], errors=\"coerce\")"
   ]
  },
  {
   "cell_type": "markdown",
   "id": "64e7348f",
   "metadata": {},
   "source": [
    "### Condense Datasets"
   ]
  },
  {
   "cell_type": "code",
   "execution_count": 166,
   "id": "5d2b59dc",
   "metadata": {},
   "outputs": [],
   "source": [
    "### Filter data by grade and programm type\n",
    "class_size = data[\"class_size\"]\n",
    "class_size = class_size[class_size[\"GRADE \"] == \"09-12\"]\n",
    "class_size = class_size[class_size[\"PROGRAM TYPE\"] == \"GEN ED\"]\n",
    "\n",
    "### Average class size among schools\n",
    "class_size = class_size.groupby(\"DBN\").agg(np.mean)\n",
    "class_size.reset_index(inplace=True)\n",
    "data[\"class_size\"] = class_size\n",
    "\n",
    "### Filter data by year\n",
    "data[\"demographics\"] = data[\"demographics\"][data[\"demographics\"][\"schoolyear\"] == 20112012]\n",
    "\n",
    "data[\"graduation\"] = data[\"graduation\"][data[\"graduation\"][\"Cohort\"] == \"2006\"]\n",
    "data[\"graduation\"] = data[\"graduation\"][data[\"graduation\"][\"Demographic\"] == \"Total Cohort\"]\n",
    "\n",
    "### Convert AP scores to numeric\n",
    "cols = ['AP Test Takers ', 'Total Exams Taken', 'Number of Exams with scores 3 4 or 5']\n",
    "\n",
    "for col in cols:\n",
    "    data[\"ap_2010\"][col] = pd.to_numeric(data[\"ap_2010\"][col], errors=\"coerce\")"
   ]
  },
  {
   "cell_type": "markdown",
   "id": "ff32b344",
   "metadata": {},
   "source": [
    "### Combine the Datasets"
   ]
  },
  {
   "cell_type": "code",
   "execution_count": 167,
   "id": "f95d03c7",
   "metadata": {},
   "outputs": [],
   "source": [
    "combined = data[\"sat_results\"]\n",
    "\n",
    "combined = combined.merge(data[\"ap_2010\"], on=\"DBN\", how=\"left\")\n",
    "combined = combined.merge(data[\"graduation\"], on=\"DBN\", how=\"left\")\n",
    "\n",
    "to_merge = [\"class_size\", \"demographics\", \"survey\", \"hs_directory\"]\n",
    "\n",
    "for m in to_merge:\n",
    "    combined = combined.merge(data[m], on=\"DBN\", how=\"inner\")\n",
    "\n",
    "combined = combined.fillna(combined.mean())\n",
    "combined = combined.fillna(0)\n",
    "\n",
    "### Add a school district column for mapping\n",
    "combined[\"school_dist\"] = combined[\"DBN\"].apply(lambda dbn: dbn[0:2])"
   ]
  },
  {
   "cell_type": "markdown",
   "id": "6d06ad14",
   "metadata": {},
   "source": [
    "### Find correlations"
   ]
  },
  {
   "cell_type": "code",
   "execution_count": 168,
   "id": "350bfbe7",
   "metadata": {},
   "outputs": [
    {
     "data": {
      "text/plain": [
       "SAT Critical Reading Avg. Score    0.986820\n",
       "SAT Math Avg. Score                0.972643\n",
       "SAT Writing Avg. Score             0.987771\n",
       "sat_score                          1.000000\n",
       "AP Test Takers                     0.523140\n",
       "                                     ...   \n",
       "priority08                              NaN\n",
       "priority09                              NaN\n",
       "priority10                              NaN\n",
       "lat                               -0.121029\n",
       "lon                               -0.132222\n",
       "Name: sat_score, Length: 67, dtype: float64"
      ]
     },
     "execution_count": 168,
     "metadata": {},
     "output_type": "execute_result"
    }
   ],
   "source": [
    "combined.corr()[\"sat_score\"]"
   ]
  },
  {
   "cell_type": "code",
   "execution_count": 169,
   "id": "d1a8327c",
   "metadata": {},
   "outputs": [],
   "source": [
    "### Remove DBN since it's a unique identifier, not a useful numerical value for correlation.\n",
    "survey_fields.remove(\"DBN\")"
   ]
  },
  {
   "cell_type": "code",
   "execution_count": 170,
   "id": "a891ec01",
   "metadata": {},
   "outputs": [
    {
     "data": {
      "text/plain": [
       "<matplotlib.lines.Line2D at 0x2150281bc70>"
      ]
     },
     "execution_count": 170,
     "metadata": {},
     "output_type": "execute_result"
    },
    {
     "data": {
      "image/png": "[encoded data removed]",
      "text/plain": [
       "<Figure size 720x360 with 1 Axes>"
      ]
     },
     "metadata": {
      "needs_background": "light"
     },
     "output_type": "display_data"
    }
   ],
   "source": [
    "import matplotlib.pyplot as plt\n",
    "%matplotlib inline\n",
    "plt.figure(figsize=(10, 5))\n",
    "combined.corr()[\"sat_score\"][survey_fields].plot.bar()\n",
    "plt.axhline(0.25)  # Level for assessing correlation significance"
   ]
  },
  {
   "cell_type": "markdown",
   "id": "a2f77f62",
   "metadata": {},
   "source": [
    "There are high correlations between `N_s`, `N_t`, `N_p` and `sat_score`.  Since these columns are correlated with `total_enrollment`, it makes sense that they would be high.  \n",
    "\n",
    "It is more interesting that `rr_s`, the student response rate, or the percentage of students that completed the survey, correlates with `sat_score`.  This might make sense because students who are more likely to fill out surveys may be more likely to also be doing well academically.\n",
    "\n",
    "How students and teachers percieved safety (`saf_t_11` and `saf_s_11`) correlate with `sat_score`.  This make sense, as it's hard to teach or learn in an unsafe environment.\n",
    "\n",
    "The last interesting correlation is the `aca_s_11`, which indicates how the student perceives academic standards, correlates with `sat_score`, but this is not true for `aca_t_11`, how teachers perceive academic standards, or `aca_p_11`, how parents perceive academic standards.\n",
    "\n",
    "## Exploring Safety and SAT Scores\n",
    "\n",
    "Below, we'll dig into how teachers and students perceive safety at school a bit more, and try to figure out which schools have low safety scores. "
   ]
  },
  {
   "cell_type": "code",
   "execution_count": 171,
   "id": "bffdbd51",
   "metadata": {},
   "outputs": [
    {
     "data": {
      "text/plain": [
       "<AxesSubplot:xlabel='saf_s_11', ylabel='sat_score'>"
      ]
     },
     "execution_count": 171,
     "metadata": {},
     "output_type": "execute_result"
    },
    {
     "data": {
      "image/png": "[encoded data removed]",
      "text/plain": [
       "<Figure size 432x288 with 1 Axes>"
      ]
     },
     "metadata": {
      "needs_background": "light"
     },
     "output_type": "display_data"
    }
   ],
   "source": [
    "combined.plot.scatter(\"saf_s_11\", \"sat_score\")"
   ]
  },
  {
   "cell_type": "markdown",
   "id": "247bfdc3",
   "metadata": {},
   "source": [
    "There appears to be a correlation between SAT scores and safety, although it isn't that strong.  It looks like there are a few schools with extremely high SAT scores and high safety scores.  There are a few schools with low safety scores and low SAT scores.  No school with a safety score lower than `6.5` has an average SAT score higher than 1500 or so."
   ]
  },
  {
   "cell_type": "code",
   "execution_count": 172,
   "id": "1d099865",
   "metadata": {},
   "outputs": [
    {
     "data": {
      "text/plain": [
       "<AxesSubplot:xlabel='boro'>"
      ]
     },
     "execution_count": 172,
     "metadata": {},
     "output_type": "execute_result"
    },
    {
     "data": {
      "image/png": "[encoded data removed]",
      "text/plain": [
       "<Figure size 720x360 with 1 Axes>"
      ]
     },
     "metadata": {
      "needs_background": "light"
     },
     "output_type": "display_data"
    }
   ],
   "source": [
    "### Explore safety by borough\n",
    "boros = combined.groupby(\"boro\").agg(np.mean)[\"saf_s_11\"]\n",
    "plt.figure(figsize=(10, 5))\n",
    "plt.ylim(6, 7)\n",
    "boros.plot.bar(rot=0)"
   ]
  },
  {
   "cell_type": "markdown",
   "id": "69a234d6",
   "metadata": {},
   "source": [
    "It looks like Manhattan and Queens tend to have higher safety scores, whereas Brooklyn has low safety scores.\n",
    "\n",
    "## Exploring Race and SAT Scores\n",
    "\n",
    "There are a few columns that indicate the percentage of each race at a given school:\n",
    "\n",
    "- `white_per`\n",
    "\n",
    "\n",
    "- `asian_per`\n",
    "\n",
    "\n",
    "- `black_per`\n",
    "\n",
    "\n",
    "- `hispanic_per`\n",
    "\n",
    "By plotting out correlations between these columns and `sat_score`, we can determine whether there are any racial diffirences in SAT perfomance"
   ]
  },
  {
   "cell_type": "code",
   "execution_count": 173,
   "id": "4e8615d3",
   "metadata": {},
   "outputs": [
    {
     "data": {
      "text/plain": [
       "<AxesSubplot:title={'center':'Correlation between average SAT score and race'}>"
      ]
     },
     "execution_count": 173,
     "metadata": {},
     "output_type": "execute_result"
    },
    {
     "data": {
      "image/png": "[encoded data removed]",
      "text/plain": [
       "<Figure size 576x360 with 1 Axes>"
      ]
     },
     "metadata": {
      "needs_background": "light"
     },
     "output_type": "display_data"
    }
   ],
   "source": [
    "race_fields = [\"white_per\", \"asian_per\", \"black_per\", \"hispanic_per\"]\n",
    "plt.figure(figsize=(8, 5))\n",
    "plt.title('Correlation between average SAT score and race')\n",
    "plt.axhline(0.25, c='green')\n",
    "plt.axhline(-0.25, c='red')\n",
    "plt.axhline(0, c='black')\n",
    "combined.corr()[\"sat_score\"][race_fields].plot.bar(rot=0)"
   ]
  },
  {
   "cell_type": "markdown",
   "id": "ae9b8b77",
   "metadata": {},
   "source": [
    "It looks like a higher percentage of white or asian students at a school correlates positively with sat score, whereas a higher percentage of black or hispanic students correlates negatively with sat score.  This may be due to a lack of funding for schools in certain areas, which are more likely to have a higher percentage of black or hispanic students."
   ]
  },
  {
   "cell_type": "code",
   "execution_count": 174,
   "id": "265e231f",
   "metadata": {},
   "outputs": [
    {
     "data": {
      "text/plain": [
       "<AxesSubplot:xlabel='hispanic_per', ylabel='sat_score'>"
      ]
     },
     "execution_count": 174,
     "metadata": {},
     "output_type": "execute_result"
    },
    {
     "data": {
      "image/png": "[encoded data removed]",
      "text/plain": [
       "<Figure size 432x288 with 1 Axes>"
      ]
     },
     "metadata": {
      "needs_background": "light"
     },
     "output_type": "display_data"
    }
   ],
   "source": [
    "combined.plot.scatter(\"hispanic_per\", \"sat_score\")"
   ]
  },
  {
   "cell_type": "code",
   "execution_count": 175,
   "id": "442513c5",
   "metadata": {},
   "outputs": [
    {
     "data": {
      "text/plain": [
       "44                         MANHATTAN BRIDGES HIGH SCHOOL\n",
       "82      WASHINGTON HEIGHTS EXPEDITIONARY LEARNING SCHOOL\n",
       "89     GREGORIO LUPERON HIGH SCHOOL FOR SCIENCE AND M...\n",
       "125                  ACADEMY FOR LANGUAGE AND TECHNOLOGY\n",
       "141                INTERNATIONAL SCHOOL FOR LIBERAL ARTS\n",
       "176     PAN AMERICAN INTERNATIONAL HIGH SCHOOL AT MONROE\n",
       "253                            MULTICULTURAL HIGH SCHOOL\n",
       "286               PAN AMERICAN INTERNATIONAL HIGH SCHOOL\n",
       "Name: SCHOOL NAME, dtype: object"
      ]
     },
     "execution_count": 175,
     "metadata": {},
     "output_type": "execute_result"
    }
   ],
   "source": [
    "### Check school names where hispanic students predominate\n",
    "combined[combined[\"hispanic_per\"] > 95][\"SCHOOL NAME\"]"
   ]
  },
  {
   "cell_type": "markdown",
   "id": "f406f7f5",
   "metadata": {},
   "source": [
    "The schools listed above appear to primarily be geared towards recent immigrants to the US.  These schools have a lot of students who are learning English, which would explain the lower SAT scores."
   ]
  },
  {
   "cell_type": "code",
   "execution_count": 176,
   "id": "055c5a76",
   "metadata": {},
   "outputs": [
    {
     "data": {
      "text/plain": [
       "37                                STUYVESANT HIGH SCHOOL\n",
       "151                         BRONX HIGH SCHOOL OF SCIENCE\n",
       "187                       BROOKLYN TECHNICAL HIGH SCHOOL\n",
       "327    QUEENS HIGH SCHOOL FOR THE SCIENCES AT YORK CO...\n",
       "356                  STATEN ISLAND TECHNICAL HIGH SCHOOL\n",
       "Name: SCHOOL NAME, dtype: object"
      ]
     },
     "execution_count": 176,
     "metadata": {},
     "output_type": "execute_result"
    }
   ],
   "source": [
    "### Select schools with hispanic minority and high SAT results\n",
    "combined[(combined[\"hispanic_per\"] < 10) & (combined[\"sat_score\"] > 1800)][\"SCHOOL NAME\"]"
   ]
  },
  {
   "cell_type": "markdown",
   "id": "6f0e480f",
   "metadata": {},
   "source": [
    "Many of the schools above appear to be specialized science and technology schools that receive extra funding, and only admit students who pass an entrance exam.  This doesn't explain the low `hispanic_per`, but it does explain why their students tend to do better on the SAT - they are students from all over New York City who did well on a standardized test.\n",
    "\n",
    "## Exploring Gender and SAT Scores\n",
    "\n",
    "There are two columns that indicate the percentage of each gender at a school:\n",
    "- `male_per`\n",
    "\n",
    "\n",
    "- `female_per`\n",
    "\n",
    "We can plot out the correlations between each percentage and `sat_score`"
   ]
  },
  {
   "cell_type": "code",
   "execution_count": 177,
   "id": "73ee3bc3",
   "metadata": {},
   "outputs": [
    {
     "data": {
      "text/plain": [
       "<AxesSubplot:>"
      ]
     },
     "execution_count": 177,
     "metadata": {},
     "output_type": "execute_result"
    },
    {
     "data": {
      "image/png": "[encoded data removed]",
      "text/plain": [
       "<Figure size 432x288 with 1 Axes>"
      ]
     },
     "metadata": {
      "needs_background": "light"
     },
     "output_type": "display_data"
    }
   ],
   "source": [
    "gender_fields = [\"male_per\", \"female_per\"]\n",
    "plt.axhline(0.25, c='green')\n",
    "plt.axhline(-0.25, c='red')\n",
    "plt.axhline(0, c='black')\n",
    "combined.corr()[\"sat_score\"][gender_fields].plot.bar(rot=0)"
   ]
  },
  {
   "cell_type": "markdown",
   "id": "753bd6a0",
   "metadata": {},
   "source": [
    "In the plot above, we can see that a high percentage of females at a school slightly positively correlates with SAT score, and vice versa.  Both correlations have doubtful significance."
   ]
  },
  {
   "cell_type": "code",
   "execution_count": 178,
   "id": "727c74dc",
   "metadata": {},
   "outputs": [
    {
     "data": {
      "text/plain": [
       "<AxesSubplot:xlabel='female_per', ylabel='sat_score'>"
      ]
     },
     "execution_count": 178,
     "metadata": {},
     "output_type": "execute_result"
    },
    {
     "data": {
      "image/png": "[encoded data removed]",
      "text/plain": [
       "<Figure size 432x288 with 1 Axes>"
      ]
     },
     "metadata": {
      "needs_background": "light"
     },
     "output_type": "display_data"
    }
   ],
   "source": [
    "combined.plot.scatter(\"female_per\", \"sat_score\")"
   ]
  },
  {
   "cell_type": "markdown",
   "id": "2a50c3de",
   "metadata": {},
   "source": [
    "Based on the scatterplot, there doesn't seem to be any real correlation between `sat_score` and `female_per`.  However, there is a cluster of schools with a high percentage of females (`60` to `80`), and high SAT scores."
   ]
  },
  {
   "cell_type": "code",
   "execution_count": 179,
   "id": "dde020c6",
   "metadata": {},
   "outputs": [
    {
     "data": {
      "text/plain": [
       "5                         BARD HIGH SCHOOL EARLY COLLEGE\n",
       "26                         ELEANOR ROOSEVELT HIGH SCHOOL\n",
       "60                                    BEACON HIGH SCHOOL\n",
       "61     FIORELLO H. LAGUARDIA HIGH SCHOOL OF MUSIC & A...\n",
       "302                          TOWNSEND HARRIS HIGH SCHOOL\n",
       "Name: SCHOOL NAME, dtype: object"
      ]
     },
     "execution_count": 179,
     "metadata": {},
     "output_type": "execute_result"
    }
   ],
   "source": [
    "### Select schools with female majority and high SAT scores\n",
    "combined[(combined[\"female_per\"] > 60) & (combined[\"sat_score\"] > 1700)][\"SCHOOL NAME\"]"
   ]
  },
  {
   "cell_type": "markdown",
   "id": "a36fb062",
   "metadata": {},
   "source": [
    "These schools appears to be very selective liberal arts schools that have high academic standards.\n",
    "\n",
    "## Exploring AP Scores vs. SAT Scores\n",
    "\n",
    "It makes sense that the number of students at a school who took AP exams would be highly correlated with the school's SAT scores. Let's explore this relationship. Because `total_enrollment` is highly correlated with `sat_score`, we don't want to bias our results. Instead, we'll look at the percentage of students in each school who took at least one AP exam."
   ]
  },
  {
   "cell_type": "code",
   "execution_count": 180,
   "id": "ecb48d2a",
   "metadata": {},
   "outputs": [
    {
     "name": "stdout",
     "output_type": "stream",
     "text": [
      "0.05717081390766952\n"
     ]
    },
    {
     "data": {
      "text/plain": [
       "<AxesSubplot:xlabel='ap_per', ylabel='sat_score'>"
      ]
     },
     "execution_count": 180,
     "metadata": {},
     "output_type": "execute_result"
    },
    {
     "data": {
      "image/png": "[encoded data removed]",
      "text/plain": [
       "<Figure size 432x288 with 1 Axes>"
      ]
     },
     "metadata": {
      "needs_background": "light"
     },
     "output_type": "display_data"
    }
   ],
   "source": [
    "combined[\"ap_per\"] = combined[\"AP Test Takers \"] / combined[\"total_enrollment\"]\n",
    "\n",
    "print(combined.corr()[\"ap_per\"]['sat_score'])\n",
    "combined.plot.scatter(x='ap_per', y='sat_score')"
   ]
  },
  {
   "cell_type": "markdown",
   "id": "c97ba241",
   "metadata": {},
   "source": [
    "It doesn't look like there is a relationship between the percentage of students in a school who take the AP exam, and their average SAT scores.  The calculated correlation coefficient close to zero confirms this hypothesis.\n",
    "\n",
    "## Exploring Class Size and SAT Scores"
   ]
  },
  {
   "cell_type": "code",
   "execution_count": 181,
   "id": "7a15ab1a",
   "metadata": {},
   "outputs": [
    {
     "name": "stdout",
     "output_type": "stream",
     "text": [
      "0.38101433080955277\n"
     ]
    },
    {
     "data": {
      "text/plain": [
       "<AxesSubplot:xlabel='AVERAGE CLASS SIZE', ylabel='sat_score'>"
      ]
     },
     "execution_count": 181,
     "metadata": {},
     "output_type": "execute_result"
    },
    {
     "data": {
      "image/png": "[encoded data removed]",
      "text/plain": [
       "<Figure size 432x288 with 1 Axes>"
      ]
     },
     "metadata": {
      "needs_background": "light"
     },
     "output_type": "display_data"
    }
   ],
   "source": [
    "print(combined.corr()[\"sat_score\"]['AVERAGE CLASS SIZE'])\n",
    "combined.plot.scatter(x='AVERAGE CLASS SIZE', y='sat_score')"
   ]
  },
  {
   "cell_type": "markdown",
   "id": "8093f8ab",
   "metadata": {},
   "source": [
    "Surprisingly, class size and SAT scores are highly correlated, despite the fact that in larger groups each individual student gets less attention. Perhaps in larger classes there is more cohesion, there are more opportunities to make friends and help each other.\n",
    "\n",
    "## Exploring Borough and SAT Score"
   ]
  },
  {
   "cell_type": "code",
   "execution_count": 182,
   "id": "eeb186b5",
   "metadata": {},
   "outputs": [
    {
     "data": {
      "text/plain": [
       "<AxesSubplot:xlabel='boro'>"
      ]
     },
     "execution_count": 182,
     "metadata": {},
     "output_type": "execute_result"
    },
    {
     "data": {
      "image/png": "[encoded data removed]",
      "text/plain": [
       "<Figure size 720x360 with 1 Axes>"
      ]
     },
     "metadata": {
      "needs_background": "light"
     },
     "output_type": "display_data"
    }
   ],
   "source": [
    "### Explore safety by borough\n",
    "boros = combined.groupby(\"boro\").agg(np.mean)[\"sat_score\"]\n",
    "plt.figure(figsize=(10, 5))\n",
    "plt.axhline(np.mean(combined['sat_score']))  # horizontal line of average among all value\n",
    "plt.ylim(1000, 1500)\n",
    "boros.plot.bar(rot=0)"
   ]
  },
  {
   "cell_type": "markdown",
   "id": "eefb0b7a",
   "metadata": {},
   "source": [
    "We can see Bronx and Brooklyn have less strong average results, Manhattan and Queens have medium, and Staten Island is prevailing with average SAT scores.\n",
    "\n",
    "## Conclusion\n",
    "\n",
    "We've done a bit of investigation into relationship between demographics and SAT scores in this project. We explored factors such as:\n",
    "\n",
    "- Safety (high significance)\n",
    "\n",
    "\n",
    "- Race (high significance)\n",
    "\n",
    "\n",
    "- Gender (low significance)\n",
    "\n",
    "\n",
    "- AP scores (high significance)\n",
    "\n",
    "\n",
    "- Class size (high significance)\n",
    "\n",
    "\n",
    "- Borough (high significance)"
   ]
  }
 ],
 "metadata": {
  "kernelspec": {
   "display_name": "Python 3",
   "language": "python",
   "name": "python3"
  },
  "language_info": {
   "codemirror_mode": {
    "name": "ipython",
    "version": 3
   },
   "file_extension": ".py",
   "mimetype": "text/x-python",
   "name": "python",
   "nbconvert_exporter": "python",
   "pygments_lexer": "ipython3",
   "version": "3.8.8"
  }
 },
 "nbformat": 4,
 "nbformat_minor": 5
}
